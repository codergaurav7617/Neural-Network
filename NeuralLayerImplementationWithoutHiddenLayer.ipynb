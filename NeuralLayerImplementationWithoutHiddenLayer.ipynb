{
 "cells": [
  {
   "cell_type": "code",
   "execution_count": 64,
   "metadata": {
    "collapsed": true
   },
   "outputs": [],
   "source": [
    "import numpy as np"
   ]
  },
  {
   "cell_type": "code",
   "execution_count": 65,
   "metadata": {},
   "outputs": [
    {
     "data": {
      "text/plain": [
       "((4, 2), (4, 1))"
      ]
     },
     "execution_count": 65,
     "metadata": {},
     "output_type": "execute_result"
    }
   ],
   "source": [
    "X=np.array([[0,0],[0,1],[1,0],[1,1]])\n",
    "Y=np.array([[0,0,0,1]]).T\n",
    "X.shape ,Y.shape"
   ]
  },
  {
   "cell_type": "code",
   "execution_count": 66,
   "metadata": {
    "collapsed": true
   },
   "outputs": [],
   "source": [
    "def sig(z):\n",
    "    return 1/(1+np.exp(-z))"
   ]
  },
  {
   "cell_type": "code",
   "execution_count": 67,
   "metadata": {
    "collapsed": true
   },
   "outputs": [],
   "source": [
    "def derivativeSig(z):\n",
    "    return sig(z)*(1-sig(z))"
   ]
  },
  {
   "cell_type": "code",
   "execution_count": 71,
   "metadata": {},
   "outputs": [
    {
     "data": {
      "text/plain": [
       "(array([[-0.81162686],\n",
       "        [-0.26456828]]), array([ 0.13215566]))"
      ]
     },
     "execution_count": 71,
     "metadata": {},
     "output_type": "execute_result"
    }
   ],
   "source": [
    "# no hidden layer weights\n",
    "weights=2*np.random.random((2,1))-1\n",
    "bias=2*np.random.random(1)-1\n",
    "lr=0.1\n",
    "weights,bias"
   ]
  },
  {
   "cell_type": "code",
   "execution_count": 69,
   "metadata": {},
   "outputs": [
    {
     "data": {
      "text/plain": [
       "(array([[ 6.31756008],\n",
       "        [ 6.3128834 ]]), array([-9.43707101]), array([[  7.97071934e-05],\n",
       "        [  4.21204929e-02],\n",
       "        [  4.23095843e-02],\n",
       "        [  9.60584109e-01]]))"
      ]
     },
     "execution_count": 69,
     "metadata": {},
     "output_type": "execute_result"
    }
   ],
   "source": [
    "# forward propogation with no hidden layer\n",
    "for iter in range(10000):\n",
    "    output0=X\n",
    "    output=sig(np.dot(output0,weights)+bias)\n",
    "    first_term=output-Y\n",
    "    input_for_last_layer=np.dot(output0,weights)+bias\n",
    "    second_term=derivativeSig(input_for_last_layer)\n",
    "    first_two=first_term*second_term\n",
    "\n",
    "    changes=np.array([[0.0],[0.0]])\n",
    "    for i in range(2):\n",
    "        for j in range(4):\n",
    "            changes[i][0]+=first_two[j][0]*output[j][0]\n",
    "    weights=weights-lr*changes \n",
    "    bias_change=0.0        \n",
    "    for j in range(4):\n",
    "            bias_change+=first_two[j][0]*1        \n",
    "    bias=bias-lr*bias_change\n",
    "output=sig(np.dot(X,weights)+bias)  \n",
    "weights,bias,output"
   ]
  },
  {
   "cell_type": "code",
   "execution_count": 72,
   "metadata": {},
   "outputs": [
    {
     "data": {
      "text/plain": [
       "(array([[ 5.47023473],\n",
       "        [ 5.47023474]]), array([-8.29808516]), array([[  2.48931172e-04],\n",
       "        [  5.58376154e-02],\n",
       "        [  5.58376150e-02],\n",
       "        [  9.33540048e-01]]))"
      ]
     },
     "execution_count": 72,
     "metadata": {},
     "output_type": "execute_result"
    }
   ],
   "source": [
    "# forward propogation with no hidden layer\n",
    "for iter in range(10000):\n",
    "    output0=X\n",
    "    output=sig(np.dot(output0,weights)+bias)\n",
    "    first_term=output-Y\n",
    "    input_for_last_layer=np.dot(output0,weights)+bias\n",
    "    second_term=derivativeSig(input_for_last_layer)\n",
    "    first_two=first_term*second_term\n",
    "    changes=np.dot(output0.T,first_two)\n",
    "    weights=weights-lr*changes \n",
    "    bias_change=np.sum(first_two)        \n",
    "    bias=bias-lr*bias_change\n",
    "output=sig(np.dot(X,weights)+bias)  \n",
    "weights,bias,output"
   ]
  }
 ],
 "metadata": {
  "kernelspec": {
   "display_name": "Python 3",
   "language": "python",
   "name": "python3"
  },
  "language_info": {
   "codemirror_mode": {
    "name": "ipython",
    "version": 3
   },
   "file_extension": ".py",
   "mimetype": "text/x-python",
   "name": "python",
   "nbconvert_exporter": "python",
   "pygments_lexer": "ipython3",
   "version": "3.6.3"
  }
 },
 "nbformat": 4,
 "nbformat_minor": 2
}
